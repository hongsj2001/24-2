{
  "nbformat": 4,
  "nbformat_minor": 0,
  "metadata": {
    "colab": {
      "provenance": []
    },
    "kernelspec": {
      "name": "python3",
      "display_name": "Python 3"
    },
    "language_info": {
      "name": "python"
    }
  },
  "cells": [
    {
      "cell_type": "code",
      "execution_count": null,
      "metadata": {
        "colab": {
          "base_uri": "https://localhost:8080/"
        },
        "id": "hzRduEWsmwzp",
        "outputId": "00af1ce2-4afa-4e0a-e566-531f3da890dd"
      },
      "outputs": [
        {
          "output_type": "stream",
          "name": "stdout",
          "text": [
            "53\n"
          ]
        }
      ],
      "source": [
        "#Machine Epsilon (기계 오차)\n",
        "#아래 코드가 53이 나오는 이유 : 1/2^54 가 기계 오차보다 작기 때문\n",
        "k=0\n",
        "while (1+1/2**k)>1:\n",
        "  k+=1\n",
        "print(k)"
      ]
    },
    {
      "cell_type": "code",
      "source": [
        "#Machine Epsilon 추정\n",
        "#*Machine Epsilon (기계 오차) : 1+eps를 부동 소수점 시스템의 컴퓨터에서 표현 시 1+eps가 1보다 크게되는 '최소의' 양의 실수\n",
        "\n",
        "meps=1\n",
        "while 1+meps>1:\n",
        "    meps = meps/2\n",
        "meps = 2*meps\n",
        "print(meps)"
      ],
      "metadata": {
        "colab": {
          "base_uri": "https://localhost:8080/"
        },
        "id": "x5fL1lKQpD8A",
        "outputId": "56d98c9b-d2c8-415d-ed4c-510966001977"
      },
      "execution_count": null,
      "outputs": [
        {
          "output_type": "stream",
          "name": "stdout",
          "text": [
            "2.220446049250313e-16\n"
          ]
        }
      ]
    },
    {
      "cell_type": "code",
      "source": [
        "#단정밀도와 배정밀도\n",
        "import numpy as np\n",
        "\n",
        "#단정밀도 (single precision) 머신 입실론 : 부호 1비트, 지수 8비트, 가수 23비트로 구성. 정밀도가 그리 중요하지 않으면서 메모리 절약이 필요한 경우 사용\n",
        "print(np.finfo(np.float32).eps)\n",
        "#배정밀도 (double precision) 머신 입실론 : 부호 1비트, 지수 11비트, 가수 52비트로 구성. 높은 정밀도 요구하는 경우 사용\n",
        "print(np.finfo(np.float64).eps)"
      ],
      "metadata": {
        "colab": {
          "base_uri": "https://localhost:8080/"
        },
        "id": "BKo_eOwVs3aL",
        "outputId": "03e06067-6676-4dc6-bb32-5723a1b050c6"
      },
      "execution_count": null,
      "outputs": [
        {
          "output_type": "stream",
          "name": "stdout",
          "text": [
            "1.1920929e-07\n",
            "2.220446049250313e-16\n"
          ]
        }
      ]
    },
    {
      "cell_type": "code",
      "source": [
        "#마무리 오차의 영향\n",
        "sum1 = 1.0 #1에 diff를 계속 더함\n",
        "sum2= 0.0 # diff를 먼저 더한 후 1을 더함\n",
        "diff = 1/10**16 #meps보다 작은 수\n",
        "\n",
        "for i in range(10**7):\n",
        "  sum1 += diff\n",
        "  sum2 += diff\n",
        "sum2 = 1.0 + sum2\n",
        "\n",
        "print(sum1)\n",
        "print(sum2)"
      ],
      "metadata": {
        "colab": {
          "base_uri": "https://localhost:8080/"
        },
        "id": "y-CRhTtGp_4H",
        "outputId": "6f0fe5d2-597f-44d9-e118-17aea04f4aed"
      },
      "execution_count": null,
      "outputs": [
        {
          "output_type": "stream",
          "name": "stdout",
          "text": [
            "1.0\n",
            "1.000000001\n"
          ]
        }
      ]
    },
    {
      "cell_type": "code",
      "source": [
        "#매클로린 급수를 이용해 e^x 근사화\n",
        "\n",
        "import math\n",
        "\n",
        "#매클로린 급수 사용자 정의 함수\n",
        "def mac (x,n):\n",
        "  f=0\n",
        "  for i in  range (n):\n",
        "    f+=x**i/math.factorial(i)\n",
        "  return f\n",
        "\n",
        "real = math.e\n",
        "approx = mac(1,3)\n",
        "ocha = real - approx\n",
        "\n",
        "print(\"참값 : {}\".format(real))\n",
        "print(\"근사값 : {}\".format(approx))\n",
        "print(\"절단오차 : {}\".format(ocha))\n"
      ],
      "metadata": {
        "colab": {
          "base_uri": "https://localhost:8080/"
        },
        "id": "BGpzt-PgrCiS",
        "outputId": "20a9f649-4751-4bea-8b4e-c18b91317bb4"
      },
      "execution_count": null,
      "outputs": [
        {
          "output_type": "stream",
          "name": "stdout",
          "text": [
            "참값 : 2.718281828459045\n",
            "근사값 : 2.5\n",
            "절단오차 : 0.2182818284590451\n"
          ]
        }
      ]
    },
    {
      "cell_type": "code",
      "source": [
        "#선형방정식 Ax=b를 푸는 방법 1 : A의 역행렬을 구하여 계산 (계산 비용이 너무 크고 수치적 불안정성을 갖기 때문에 좋은 방법은 아님)\n",
        "import numpy as np\n",
        "#행렬 A,b 선언\n",
        "A = np.array([[-1, 1, 2], [3, -1, 1], [-1, 3, 4]], dtype=float)\n",
        "b = np.array([2, 6, 4], dtype=float)\n",
        "\n",
        "\n",
        "A_inv = np.linalg.inv(A) #A의 역행렬\n",
        "\n",
        "\n",
        "x = np.dot(A_inv, b) #A의 역행렬과 b의 행렬곱을 이용해 x 계산 = np.dot(A_inv, b) #A의 역행렬과 b의 행렬곱을 이용해 x 계산\n",
        "print(x)"
      ],
      "metadata": {
        "colab": {
          "base_uri": "https://localhost:8080/"
        },
        "id": "Qw09zHxblGcJ",
        "outputId": "e822decb-6a0e-4495-d37f-68393b615868"
      },
      "execution_count": null,
      "outputs": [
        {
          "output_type": "stream",
          "name": "stdout",
          "text": [
            "[ 1. -1.  2.]\n"
          ]
        }
      ]
    },
    {
      "cell_type": "code",
      "source": [
        "#가우스 소거법\n",
        "#순서 : 1. A,b를 확대 행렬로 변환 후 A행렬의 위삼각행렬화 2.역진대입법 수행\n",
        "\n",
        "import numpy as np\n",
        "\n",
        "\n",
        "def naiveGauss(A,b):\n",
        "  #A행렬의 위삼각행렬화\n",
        "  n=len(b)\n",
        "  for j in range(0,n-1):\n",
        "    for i in range(j+1,n):\n",
        "      factor = A[i,j]/A[j,j]\n",
        "      A[i,:] = A[i,:] - A[j,:]*factor\n",
        "      b[i] = b[i] - b[j]*factor\n",
        "  #역진대입법\n",
        "  x=np.zeros(n)\n",
        "  x[n-1]=b[n-1]/A[n-1,n-1]\n",
        "  for i in range(n-2,-1,-1):\n",
        "    sum=0\n",
        "    for k in range(i+1, n):\n",
        "      sum = sum+A[i,k]*x[k]\n",
        "      x[i] = (b[i] - sum) / A[i,i]\n",
        "  return x\n",
        "\n",
        "\n",
        "\n",
        "A = np.array([[-1,1,2],[3,-1,1],[-1,3,4]],dtype = float)\n",
        "b= np.array([2,6,4])\n",
        "\n",
        "A_inv = np.linalg.inv(A)\n",
        "x = np.dot(A_inv,b)\n",
        "\n",
        "print(x)\n",
        "print(naiveGauss(A,b))"
      ],
      "metadata": {
        "id": "JAkGjYketGR7",
        "colab": {
          "base_uri": "https://localhost:8080/"
        },
        "outputId": "0517c682-9156-46b6-905c-541890fb656b"
      },
      "execution_count": 16,
      "outputs": [
        {
          "output_type": "stream",
          "name": "stdout",
          "text": [
            "[ 1. -1.  2.]\n",
            "[ 1. -1.  2.]\n"
          ]
        }
      ]
    }
  ]
}